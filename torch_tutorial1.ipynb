{
 "cells": [
  {
   "cell_type": "markdown",
   "metadata": {},
   "source": [
    "# PyTorch Tutorial\n",
    "\n",
    "Jinhyeok Jeong \n",
    "2024-05-14"
   ]
  },
  {
   "cell_type": "markdown",
   "metadata": {},
   "source": [
    "## 1. Tensor"
   ]
  },
  {
   "cell_type": "markdown",
   "metadata": {},
   "source": [
    "For more information: https://pytorch.org/tutorials/beginner/basics/tensorqs_tutorial.html <br>\n",
    "\n",
    "In PyTorch, a tensor is used to encode inputs, outputs, and parameters of a neural network model.\n",
    "It's similar to NumPy's ndarray and has many parallel functions, but it can be loaded into the GPU."
   ]
  },
  {
   "cell_type": "markdown",
   "metadata": {},
   "source": [
    "Tensor objects can be created in various ways. \n",
    "It can be made directly with torch.arrray() function, or created from list or numpy array"
   ]
  },
  {
   "cell_type": "code",
   "execution_count": 1,
   "metadata": {},
   "outputs": [],
   "source": [
    "import torch\n",
    "import numpy as np"
   ]
  },
  {
   "cell_type": "code",
   "execution_count": 2,
   "metadata": {},
   "outputs": [
    {
     "name": "stdout",
     "output_type": "stream",
     "text": [
      "a: \n",
      " tensor([[1, 2],\n",
      "        [3, 4]]) <class 'torch.Tensor'>\n",
      "b: \n",
      " tensor([[1, 2],\n",
      "        [3, 4]]) <class 'torch.Tensor'>\n",
      "c: \n",
      " tensor([[1, 2],\n",
      "        [3, 4]]) <class 'torch.Tensor'>\n",
      "d: \n",
      " [[1 2]\n",
      " [3 4]] <class 'numpy.ndarray'>\n"
     ]
    }
   ],
   "source": [
    "# create tensor directly\n",
    "a = torch.tensor([[1, 2], [3, 4]])\n",
    "print(\"a: \\n\", a, type(a))\n",
    "\n",
    "# create tensor from numpy array\n",
    "b = np.array([[1, 2], [3, 4]])\n",
    "b = torch.from_numpy(b)  # or you can just do torch.tensor(b)\n",
    "print(\"b: \\n\", b, type(b))\n",
    "\n",
    "c = [[1, 2], [3, 4]]\n",
    "c = torch.tensor(c)\n",
    "print(\"c: \\n\", c, type(c))\n",
    "\n",
    "# you can also change tensor to numpy\n",
    "d = a.numpy()\n",
    "print(\"d: \\n\", d, type(d))"
   ]
  },
  {
   "cell_type": "markdown",
   "metadata": {},
   "source": [
    "When you make a tensor from NumPy or vice versa, be aware that modfiying one can affect another"
   ]
  },
  {
   "cell_type": "code",
   "execution_count": 3,
   "metadata": {},
   "outputs": [
    {
     "name": "stdout",
     "output_type": "stream",
     "text": [
      "[0 1 2 3 4 5 6 7]\n",
      "tensor([0, 1, 2, 3, 4, 5, 6, 7])\n",
      "[8 1 2 3 4 5 6 7]\n",
      "tensor([8, 1, 2, 3, 4, 5, 6, 7])\n"
     ]
    }
   ],
   "source": [
    "e1 = np.arange(8)\n",
    "print(e1)\n",
    "\n",
    "e2 = torch.from_numpy(e1)\n",
    "print(e2)\n",
    "\n",
    "e1[0] = 8  # this will change the value of e2 as well as e1\n",
    "\n",
    "print(e1)\n",
    "print(e2)"
   ]
  },
  {
   "cell_type": "markdown",
   "metadata": {},
   "source": [
    "PyTorch has functison that are parallel with NumPy functions. If you are familiar with NumPy, you will find many PyTorch functions that are functionally equivalent to NumPy functions."
   ]
  },
  {
   "cell_type": "code",
   "execution_count": 4,
   "metadata": {},
   "outputs": [
    {
     "name": "stdout",
     "output_type": "stream",
     "text": [
      "[1. 1. 1. 1. 1.]\n",
      "tensor([1., 1., 1., 1., 1.])\n",
      "[0. 0. 0. 0. 0.]\n",
      "tensor([0., 0., 0., 0., 0.])\n",
      "tensor([[0.5855, 0.8202, 0.1610, 0.0538, 0.9199],\n",
      "        [0.0297, 0.4564, 0.9411, 0.1971, 0.3493],\n",
      "        [0.8524, 0.3791, 0.7678, 0.9232, 0.6139]], dtype=torch.float64)\n",
      "tensor([[1., 1., 1., 1., 1.],\n",
      "        [1., 1., 1., 1., 1.],\n",
      "        [1., 1., 1., 1., 1.]], dtype=torch.float64)\n",
      "tensor([[0., 0., 0., 0., 0.],\n",
      "        [0., 0., 0., 0., 0.],\n",
      "        [0., 0., 0., 0., 0.]], dtype=torch.float64)\n"
     ]
    }
   ],
   "source": [
    "a = np.ones(5)\n",
    "a2 = torch.ones(5)\n",
    "\n",
    "print(a)\n",
    "print(a2)\n",
    "\n",
    "b = np.zeros(5)\n",
    "b2 = torch.zeros(5)\n",
    "\n",
    "print(b)\n",
    "print(b2)\n",
    "\n",
    "# if you want to make a tensor filled with zeros or ones but with the same size with other tensor,\n",
    "# you can use the following functions\n",
    "\n",
    "c = torch.tensor(\n",
    "    np.random.rand(15).reshape((3, 5))\n",
    ")  # 3x5 tensor filled with random numbers\n",
    "print(c)\n",
    "\n",
    "d = torch.ones_like(c)  # 3x5 tensor filled with ones\n",
    "print(d)\n",
    "e = torch.zeros_like(c)  # 3x5 tensor filled with zeros\n",
    "print(e)"
   ]
  },
  {
   "cell_type": "markdown",
   "metadata": {},
   "source": [
    "Similar to NumPy, a tensor in PyTorch can be reshaped by using view() or reshape() function."
   ]
  },
  {
   "cell_type": "code",
   "execution_count": 5,
   "metadata": {},
   "outputs": [
    {
     "name": "stdout",
     "output_type": "stream",
     "text": [
      "tensor([0, 1, 2, 3, 4, 5, 6, 7, 8, 9])\n",
      "tensor([[0, 1, 2, 3, 4],\n",
      "        [5, 6, 7, 8, 9]])\n",
      "tensor([[0, 1],\n",
      "        [2, 3],\n",
      "        [4, 5],\n",
      "        [6, 7],\n",
      "        [8, 9]])\n"
     ]
    }
   ],
   "source": [
    "a = torch.arange(10)\n",
    "print(a)\n",
    "\n",
    "a = a.view((2, 5))\n",
    "print(a)\n",
    "\n",
    "a = a.reshape((5, 2))\n",
    "print(a)"
   ]
  },
  {
   "cell_type": "markdown",
   "metadata": {},
   "source": [
    "## 2. Autograd in PyTorch"
   ]
  },
  {
   "cell_type": "markdown",
   "metadata": {},
   "source": [
    "https://pytorch.org/tutorials/beginner/blitz/autograd_tutorial.html\n",
    "\n",
    "Autograd is a feautre of PyTorch that makes it flexible and powerful tool for neural network models. "
   ]
  },
  {
   "cell_type": "code",
   "execution_count": 31,
   "metadata": {},
   "outputs": [
    {
     "name": "stdout",
     "output_type": "stream",
     "text": [
      "a:  tensor([15.], requires_grad=True)\n",
      "b:  tensor([6.], requires_grad=True)\n",
      "Q:  tensor([10089.], grad_fn=<SubBackward0>)\n"
     ]
    }
   ],
   "source": [
    "a = torch.tensor([15.0], requires_grad=True)\n",
    "b = torch.tensor([6.0], requires_grad=True)\n",
    "\n",
    "print(\"a: \", a)\n",
    "print(\"b: \", b)\n",
    "\n",
    "# create another tensor based on a and b\n",
    "Q = 3 * a**3 - b**2\n",
    "print(\"Q: \", Q)"
   ]
  },
  {
   "cell_type": "markdown",
   "metadata": {},
   "source": [
    "By using autograd feature, partial derivaties of Q w.r.t a and b can be easily computed.\n",
    "This feature is useful to train neural network models (for back-propagation).\n",
    "\n",
    "a and b could be parameters and Q could be loss function of a neural network model.\n",
    "\n",
    "$Q = 3a^3-b^2$\n",
    "\n",
    "Partial derivatives of Q:\n",
    "\n",
    "$\\dfrac{\\partial Q}{\\partial a}=9a^2$\n",
    "\n",
    "$\\dfrac{\\partial Q}{\\partial b}=-2b$"
   ]
  },
  {
   "cell_type": "code",
   "execution_count": 32,
   "metadata": {},
   "outputs": [
    {
     "name": "stdout",
     "output_type": "stream",
     "text": [
      "a grad:  None\n",
      "b grad:  None\n"
     ]
    }
   ],
   "source": [
    "# before computing gradient:\n",
    "print(\"a grad: \", a.grad)\n",
    "print(\"b grad: \", b.grad)"
   ]
  },
  {
   "cell_type": "code",
   "execution_count": 33,
   "metadata": {},
   "outputs": [],
   "source": [
    "Q.backward()  # computes the partial derivates"
   ]
  },
  {
   "cell_type": "code",
   "execution_count": 34,
   "metadata": {},
   "outputs": [
    {
     "name": "stdout",
     "output_type": "stream",
     "text": [
      "a grad:  tensor([2025.])\n",
      "b grad:  tensor([-12.])\n",
      "tensor([2025.], grad_fn=<MulBackward0>)\n",
      "tensor([-12.], grad_fn=<MulBackward0>)\n"
     ]
    }
   ],
   "source": [
    "# after doing backward computation. it records the gradient information\n",
    "print(\"a grad: \", a.grad)\n",
    "print(\"b grad: \", b.grad)\n",
    "\n",
    "print(9 * a**2)\n",
    "print(-2 * b)"
   ]
  },
  {
   "cell_type": "markdown",
   "metadata": {},
   "source": [
    "## 3. Define a simple neural network model"
   ]
  },
  {
   "cell_type": "code",
   "execution_count": 10,
   "metadata": {},
   "outputs": [],
   "source": [
    "import torch\n",
    "from torch import nn"
   ]
  },
  {
   "cell_type": "markdown",
   "metadata": {},
   "source": [
    "neural network model is defined as a class that inherits from nn.Module.\n",
    "\n",
    "It is assumed that the inputs are images consisting of 28 x 28 pixels."
   ]
  },
  {
   "cell_type": "code",
   "execution_count": 11,
   "metadata": {},
   "outputs": [
    {
     "name": "stdout",
     "output_type": "stream",
     "text": [
      "simpleNN(\n",
      "  (flatten): Flatten(start_dim=1, end_dim=-1)\n",
      "  (linear_relu_stack): Sequential(\n",
      "    (0): Linear(in_features=784, out_features=512, bias=True)\n",
      "    (1): ReLU()\n",
      "    (2): Linear(in_features=512, out_features=512, bias=True)\n",
      "    (3): ReLU()\n",
      "    (4): Linear(in_features=512, out_features=10, bias=True)\n",
      "  )\n",
      ")\n"
     ]
    }
   ],
   "source": [
    "class simpleNN(nn.Module):\n",
    "\n",
    "    # every class need to have __init__ function for initialization.\n",
    "    # additional arguments other than self can be added\n",
    "    def __init__(self):\n",
    "        # super(simpleNN, self).__init__() # This is how to do initializatin in older version.\n",
    "        super().__init__()\n",
    "\n",
    "        # nn Module has several submodules that can be used to build neural networks.\n",
    "        # modules instantiated here be used when defining forward function\n",
    "        self.flatten = nn.Flatten()\n",
    "        self.linear_relu_stack = (\n",
    "            nn.Sequential(  # sequential() is an ordered container of modules\n",
    "                nn.Linear(28 * 28, 512),\n",
    "                nn.ReLU(),\n",
    "                nn.Linear(512, 512),\n",
    "                nn.ReLU(),\n",
    "                nn.Linear(512, 10),\n",
    "            )\n",
    "        )\n",
    "\n",
    "    # forward function determines the flow of information\n",
    "    def forward(self, x):\n",
    "        # assumed that x is a batch of images\n",
    "        x = self.flatten(x)\n",
    "        logits = self.linear_relu_stack(x)\n",
    "\n",
    "        return logits\n",
    "\n",
    "\n",
    "model = simpleNN()\n",
    "print(model)"
   ]
  },
  {
   "cell_type": "markdown",
   "metadata": {},
   "source": [
    "the same network model can be defined without using sequential() module."
   ]
  },
  {
   "cell_type": "code",
   "execution_count": 12,
   "metadata": {},
   "outputs": [
    {
     "name": "stdout",
     "output_type": "stream",
     "text": [
      "simpleNN2(\n",
      "  (flatten): Flatten(start_dim=1, end_dim=-1)\n",
      "  (Linear1): Linear(in_features=784, out_features=512, bias=True)\n",
      "  (relu1): ReLU()\n",
      "  (Linear2): Linear(in_features=512, out_features=512, bias=True)\n",
      "  (relu2): ReLU()\n",
      "  (Linear3): Linear(in_features=512, out_features=10, bias=True)\n",
      ")\n"
     ]
    }
   ],
   "source": [
    "class simpleNN2(nn.Module):\n",
    "\n",
    "    def __init__(self):\n",
    "\n",
    "        super().__init__()\n",
    "\n",
    "        self.flatten = nn.Flatten()\n",
    "        self.Linear1 = nn.Linear(28 * 28, 512)\n",
    "        self.relu1 = nn.ReLU()\n",
    "        self.Linear2 = nn.Linear(512, 512)\n",
    "        self.relu2 = (\n",
    "            nn.ReLU()\n",
    "        )  # instead of defining two ReLU, defining only one and use twice is fine. However, it is common to define twice for clarity\n",
    "        self.Linear3 = nn.Linear(512, 10)\n",
    "\n",
    "    def forward(self, x):\n",
    "        x = self.flatten(x)\n",
    "        x = self.relu1(self.Linear1(x))\n",
    "        x = self.relu2(self.Linear2(x))\n",
    "        logits = self.Linear3(x)\n",
    "\n",
    "        return logits\n",
    "\n",
    "\n",
    "model2 = simpleNN2()\n",
    "print(model2)"
   ]
  },
  {
   "cell_type": "markdown",
   "metadata": {},
   "source": [
    "instead of defining all the modules beforehand, some can be used as functions taken from nn.functional module.\n",
    "For example, activation functions such as relu can be used as functions rather than objects."
   ]
  },
  {
   "cell_type": "code",
   "execution_count": 13,
   "metadata": {},
   "outputs": [
    {
     "name": "stdout",
     "output_type": "stream",
     "text": [
      "simpleNN3(\n",
      "  (flatten): Flatten(start_dim=1, end_dim=-1)\n",
      "  (Linear1): Linear(in_features=784, out_features=512, bias=True)\n",
      "  (Linear2): Linear(in_features=512, out_features=512, bias=True)\n",
      "  (Linear3): Linear(in_features=512, out_features=10, bias=True)\n",
      ")\n"
     ]
    }
   ],
   "source": [
    "import torch.nn.functional as F\n",
    "\n",
    "\n",
    "class simpleNN3(nn.Module):\n",
    "\n",
    "    def __init__(self):\n",
    "\n",
    "        super().__init__()\n",
    "\n",
    "        self.flatten = nn.Flatten()\n",
    "        self.Linear1 = nn.Linear(28 * 28, 512)\n",
    "        # self.relu1 = nn.ReLU()\n",
    "        self.Linear2 = nn.Linear(512, 512)\n",
    "        # self.relu2 = nn.ReLU()\n",
    "        self.Linear3 = nn.Linear(512, 10)\n",
    "\n",
    "    def forward(self, x):\n",
    "        x = self.flatten(x)\n",
    "        x = F.relu(self.Linear1(x))\n",
    "        x = F.relu(self.Linear2(x))\n",
    "        logits = self.Linear3(x)\n",
    "\n",
    "        return logits\n",
    "\n",
    "\n",
    "model3 = simpleNN3()\n",
    "print(model3)"
   ]
  },
  {
   "cell_type": "markdown",
   "metadata": {},
   "source": [
    "When defining a class for neural network models, additional arguments can be passed to determine the details of models (e.g., number of dimensions, number of layers, and the presence of a certain layer)"
   ]
  },
  {
   "cell_type": "code",
   "execution_count": 14,
   "metadata": {},
   "outputs": [
    {
     "name": "stdout",
     "output_type": "stream",
     "text": [
      "simpleNN4(\n",
      "  (flatten): Flatten(start_dim=1, end_dim=-1)\n",
      "  (Linear1): Linear(in_features=784, out_features=1024, bias=True)\n",
      "  (relu1): ReLU()\n",
      "  (Linear2): Linear(in_features=1024, out_features=1024, bias=True)\n",
      "  (relu2): ReLU()\n",
      "  (Linear3): Linear(in_features=1024, out_features=10, bias=True)\n",
      ")\n"
     ]
    }
   ],
   "source": [
    "class simpleNN4(nn.Module):\n",
    "\n",
    "    def __init__(self, n_hidden=512):\n",
    "\n",
    "        super().__init__()\n",
    "\n",
    "        # self.n_hidden = n_hidden # if you want to use an argument outside of __init__  function, then you need to instantiate it\n",
    "\n",
    "        self.flatten = nn.Flatten()\n",
    "        self.Linear1 = nn.Linear(28 * 28, n_hidden)\n",
    "        self.relu1 = nn.ReLU()\n",
    "        self.Linear2 = nn.Linear(n_hidden, n_hidden)\n",
    "        self.relu2 = nn.ReLU()\n",
    "        self.Linear3 = nn.Linear(n_hidden, 10)\n",
    "\n",
    "    def forward(self, x):\n",
    "        x = self.flatten(x)\n",
    "        x = self.relu1(self.Linear1(x))\n",
    "        x = self.relu2(self.Linear2(x))\n",
    "        logits = self.Linear3(x)\n",
    "\n",
    "        return logits\n",
    "\n",
    "\n",
    "model4 = simpleNN4(n_hidden=1024)\n",
    "print(model4)"
   ]
  },
  {
   "cell_type": "markdown",
   "metadata": {},
   "source": [
    "## 4. How to load an imageset (MNIST example)"
   ]
  },
  {
   "cell_type": "code",
   "execution_count": 16,
   "metadata": {},
   "outputs": [],
   "source": [
    "import matplotlib.pyplot as plt\n",
    "\n",
    "from torch.utils.data import DataLoader\n",
    "import torchvision\n",
    "from torchvision import datasets\n",
    "from torchvision.transforms import ToTensor"
   ]
  },
  {
   "cell_type": "markdown",
   "metadata": {},
   "source": [
    "torchvision is a vision-specific library for pytorch, and it contains several popular datasets such as MNIST, FasionMNIST, CIFAR, and COCO. "
   ]
  },
  {
   "cell_type": "code",
   "execution_count": 17,
   "metadata": {},
   "outputs": [
    {
     "name": "stdout",
     "output_type": "stream",
     "text": [
      "Downloading http://yann.lecun.com/exdb/mnist/train-images-idx3-ubyte.gz\n",
      "Failed to download (trying next):\n",
      "HTTP Error 403: Forbidden\n",
      "\n",
      "Downloading https://ossci-datasets.s3.amazonaws.com/mnist/train-images-idx3-ubyte.gz\n"
     ]
    },
    {
     "name": "stderr",
     "output_type": "stream",
     "text": [
      "27.8%"
     ]
    },
    {
     "name": "stdout",
     "output_type": "stream",
     "text": [
      "Downloading https://ossci-datasets.s3.amazonaws.com/mnist/train-images-idx3-ubyte.gz to data/MNIST/raw/train-images-idx3-ubyte.gz\n"
     ]
    },
    {
     "name": "stderr",
     "output_type": "stream",
     "text": [
      "100.0%\n"
     ]
    },
    {
     "name": "stdout",
     "output_type": "stream",
     "text": [
      "Extracting data/MNIST/raw/train-images-idx3-ubyte.gz to data/MNIST/raw\n"
     ]
    },
    {
     "name": "stderr",
     "output_type": "stream",
     "text": [
      "100.0%"
     ]
    },
    {
     "name": "stdout",
     "output_type": "stream",
     "text": [
      "\n",
      "Downloading http://yann.lecun.com/exdb/mnist/train-labels-idx1-ubyte.gz\n",
      "Failed to download (trying next):\n",
      "HTTP Error 403: Forbidden\n",
      "\n",
      "Downloading https://ossci-datasets.s3.amazonaws.com/mnist/train-labels-idx1-ubyte.gz\n",
      "Downloading https://ossci-datasets.s3.amazonaws.com/mnist/train-labels-idx1-ubyte.gz to data/MNIST/raw/train-labels-idx1-ubyte.gz\n",
      "Extracting data/MNIST/raw/train-labels-idx1-ubyte.gz to data/MNIST/raw\n",
      "\n",
      "Downloading http://yann.lecun.com/exdb/mnist/t10k-images-idx3-ubyte.gz\n"
     ]
    },
    {
     "name": "stderr",
     "output_type": "stream",
     "text": [
      "\n",
      "100.0%"
     ]
    },
    {
     "name": "stdout",
     "output_type": "stream",
     "text": [
      "Failed to download (trying next):\n",
      "HTTP Error 403: Forbidden\n",
      "\n",
      "Downloading https://ossci-datasets.s3.amazonaws.com/mnist/t10k-images-idx3-ubyte.gz\n",
      "Downloading https://ossci-datasets.s3.amazonaws.com/mnist/t10k-images-idx3-ubyte.gz to data/MNIST/raw/t10k-images-idx3-ubyte.gz\n",
      "Extracting data/MNIST/raw/t10k-images-idx3-ubyte.gz to data/MNIST/raw\n"
     ]
    },
    {
     "name": "stderr",
     "output_type": "stream",
     "text": [
      "\n",
      "100.0%"
     ]
    },
    {
     "name": "stdout",
     "output_type": "stream",
     "text": [
      "\n",
      "Downloading http://yann.lecun.com/exdb/mnist/t10k-labels-idx1-ubyte.gz\n",
      "Failed to download (trying next):\n",
      "HTTP Error 403: Forbidden\n",
      "\n",
      "Downloading https://ossci-datasets.s3.amazonaws.com/mnist/t10k-labels-idx1-ubyte.gz\n",
      "Downloading https://ossci-datasets.s3.amazonaws.com/mnist/t10k-labels-idx1-ubyte.gz to data/MNIST/raw/t10k-labels-idx1-ubyte.gz\n",
      "Extracting data/MNIST/raw/t10k-labels-idx1-ubyte.gz to data/MNIST/raw\n",
      "\n"
     ]
    },
    {
     "name": "stderr",
     "output_type": "stream",
     "text": [
      "\n"
     ]
    }
   ],
   "source": [
    "# ToTensor transforms PIL image or ndarray to tensor and scale the values to [0.0, 1.0].\n",
    "# You can apply more complicated transforms if you want\n",
    "\n",
    "# if this is first time to use the data, PyTorch will download it for later use.\n",
    "training_data = datasets.MNIST(\n",
    "    root=\"data\", train=True, download=True, transform=ToTensor()\n",
    ")\n",
    "test_data = datasets.MNIST(\n",
    "    root=\"data\", train=False, download=True, transform=ToTensor()\n",
    ")"
   ]
  },
  {
   "cell_type": "code",
   "execution_count": 18,
   "metadata": {},
   "outputs": [
    {
     "name": "stdout",
     "output_type": "stream",
     "text": [
      "torch.Size([64, 1, 28, 28])\n",
      "tensor([5, 0, 4, 1, 9, 2, 1, 3, 1, 4, 3, 5, 3, 6, 1, 7, 2, 8, 6, 9, 4, 0, 9, 1,\n",
      "        1, 2, 4, 3, 2, 7, 3, 8, 6, 9, 0, 5, 6, 0, 7, 6, 1, 8, 7, 9, 3, 9, 8, 5,\n",
      "        9, 3, 3, 0, 7, 4, 9, 8, 0, 9, 4, 1, 4, 4, 6, 0])\n"
     ]
    },
    {
     "data": {
      "text/plain": [
       "Text(0.5, 1.0, 'Example of training images')"
      ]
     },
     "execution_count": 18,
     "metadata": {},
     "output_type": "execute_result"
    },
    {
     "data": {
      "image/png": "[encoded data removed]",
      "text/plain": [
       "<Figure size 640x480 with 1 Axes>"
      ]
     },
     "metadata": {},
     "output_type": "display_data"
    }
   ],
   "source": [
    "# loaded dataset can be passed to DataLoader, which performs several operations including batching, sampling, and shuffling.\n",
    "batch_size = 64\n",
    "\n",
    "train_loader = DataLoader(training_data, batch_size=batch_size)\n",
    "test_loader = DataLoader(test_data, batch_size=batch_size)\n",
    "\n",
    "# check the training batch\n",
    "dataiter = iter(train_loader)\n",
    "images, labels = next(dataiter)\n",
    "\n",
    "print(images.shape)  # shape: (sample, color_channel, image height, image width)\n",
    "print(labels)  # labels are not one-hot encoded.\n",
    "\n",
    "# visualization\n",
    "# utils.make_grid concatenate images as a grid, and np.transpose change the order of dimensions (channel,h,w) -> (h,w,channel)\n",
    "plt.imshow(np.transpose(torchvision.utils.make_grid(images), (1, 2, 0)))\n",
    "plt.title(\"Example of training images\")"
   ]
  },
  {
   "cell_type": "markdown",
   "metadata": {},
   "source": [
    "## 5. How to train & test a neural network model"
   ]
  },
  {
   "cell_type": "markdown",
   "metadata": {},
   "source": [
    "To train a model, loss function needs to be defined."
   ]
  },
  {
   "cell_type": "code",
   "execution_count": 19,
   "metadata": {},
   "outputs": [],
   "source": [
    "import torch.optim as optim\n",
    "\n",
    "model = simpleNN()\n",
    "\n",
    "# In PyTorch, Cross Entropy Loss function computes (log) softmax of given outputs before computing loss\n",
    "# LogSoftmax + NLLLoss will be equivalent to this function.\n",
    "loss_fn = nn.CrossEntropyLoss()\n",
    "optimizer = optim.SGD(model.parameters(), lr=1e-3)\n",
    "\n",
    "n_epoch = 30"
   ]
  },
  {
   "cell_type": "code",
   "execution_count": 21,
   "metadata": {},
   "outputs": [
    {
     "name": "stdout",
     "output_type": "stream",
     "text": [
      "epoch: 1/30, train loss: 2.2850\n",
      "epoch: 2/30, train loss: 2.2374\n",
      "epoch: 3/30, train loss: 2.1631\n",
      "epoch: 4/30, train loss: 2.0354\n",
      "epoch: 5/30, train loss: 1.8247\n",
      "epoch: 6/30, train loss: 1.5311\n",
      "epoch: 7/30, train loss: 1.2301\n",
      "epoch: 8/30, train loss: 1.0006\n",
      "epoch: 9/30, train loss: 0.8448\n",
      "epoch: 10/30, train loss: 0.7381\n",
      "epoch: 11/30, train loss: 0.6621\n",
      "epoch: 12/30, train loss: 0.6057\n",
      "epoch: 13/30, train loss: 0.5624\n",
      "epoch: 14/30, train loss: 0.5283\n",
      "epoch: 15/30, train loss: 0.5007\n",
      "epoch: 16/30, train loss: 0.4779\n",
      "epoch: 17/30, train loss: 0.4587\n",
      "epoch: 18/30, train loss: 0.4424\n",
      "epoch: 19/30, train loss: 0.4283\n",
      "epoch: 20/30, train loss: 0.4160\n",
      "epoch: 21/30, train loss: 0.4052\n",
      "epoch: 22/30, train loss: 0.3956\n",
      "epoch: 23/30, train loss: 0.3870\n",
      "epoch: 24/30, train loss: 0.3793\n",
      "epoch: 25/30, train loss: 0.3722\n",
      "epoch: 26/30, train loss: 0.3658\n",
      "epoch: 27/30, train loss: 0.3599\n",
      "epoch: 28/30, train loss: 0.3544\n",
      "epoch: 29/30, train loss: 0.3494\n",
      "epoch: 30/30, train loss: 0.3446\n"
     ]
    }
   ],
   "source": [
    "train_loss_epochs = []\n",
    "train_acc_epochs = []\n",
    "\n",
    "val_loss_epochs = []\n",
    "val_acc_epochs = []\n",
    "\n",
    "for epoch in range(n_epoch):\n",
    "\n",
    "    # running loss\n",
    "    train_loss = 0.0\n",
    "    train_acc = 0\n",
    "\n",
    "    # training\n",
    "    # depending on train/eval mode, some layers such as Dropout and BatchNorm behave differently\n",
    "    model.train()\n",
    "\n",
    "    for i, data in enumerate(train_loader, 0):\n",
    "\n",
    "        # get the inputs\n",
    "        images, labels = data\n",
    "\n",
    "        # zero the parameter gradients\n",
    "        optimizer.zero_grad()\n",
    "\n",
    "        # input the images & calculate the loss\n",
    "        outputs = model(images)\n",
    "        loss = loss_fn(\n",
    "            outputs, labels\n",
    "        )  # CrossEntropyLoss does not expect one-hot encoded labels.\n",
    "\n",
    "        # calculate the number of correct predictions\n",
    "        train_acc += (\n",
    "            (outputs.argmax(1) == labels).sum().item()\n",
    "        )  # number of correct predictions\n",
    "\n",
    "        # update weights based on the gradient\n",
    "        loss.backward()  # back-propagation\n",
    "        optimizer.step()  # update the weights based on the gradient\n",
    "\n",
    "        train_loss += loss.item() * images.size(0)\n",
    "\n",
    "    train_acc /= len(training_data)  # average accuracy for epoch\n",
    "    train_acc_epochs.append(train_acc)\n",
    "\n",
    "    print(\n",
    "        f\"epoch: {epoch+1}/{n_epoch}, train loss: {train_loss/len(training_data):.4f}\"\n",
    "    )\n",
    "    train_loss_epochs.append(train_loss / len(training_data))\n",
    "\n",
    "    # test\n",
    "    model.eval()\n",
    "    with torch.no_grad():  # gradient is not computed during test\n",
    "\n",
    "        val_loss = 0.0\n",
    "        val_acc = 0\n",
    "\n",
    "        for j, data in enumerate(test_loader, 0):\n",
    "\n",
    "            # get the inputs\n",
    "            images, labels = data\n",
    "\n",
    "            # input the images and calculate the loss\n",
    "            outputs = model(images)\n",
    "            loss = loss_fn(outputs, labels)\n",
    "\n",
    "            # calculate accuracy & store loss\n",
    "            val_acc += (\n",
    "                (outputs.argmax(1) == labels).sum().item()\n",
    "            )  # number of correct predictions\n",
    "            val_loss += loss.item() * images.size(0)\n",
    "\n",
    "        val_loss_epochs.append(val_loss / len(test_data))\n",
    "        val_acc /= len(test_data)\n",
    "        val_acc_epochs.append(val_acc)"
   ]
  },
  {
   "cell_type": "code",
   "execution_count": 49,
   "metadata": {},
   "outputs": [
    {
     "data": {
      "text/plain": [
       "array([[-2.8780529e-03, -3.0236594e-02, -2.5521599e-02, ...,\n",
       "        -1.0099351e-02,  1.7490231e-02,  1.8520016e-06],\n",
       "       [ 2.3583379e-02, -3.5649579e-02, -1.7501074e-03, ...,\n",
       "         1.4360637e-02,  1.0991667e-02, -1.5026076e-02],\n",
       "       [ 1.8424984e-02,  3.9077019e-03, -1.5927158e-02, ...,\n",
       "        -1.0020623e-02,  2.6995903e-02,  1.5441648e-03],\n",
       "       ...,\n",
       "       [-3.2964379e-02, -2.3638858e-02,  2.1506349e-02, ...,\n",
       "        -2.8892651e-02, -1.7444467e-02, -5.8789086e-03],\n",
       "       [-1.5732868e-02, -1.1524848e-02,  9.3713794e-03, ...,\n",
       "         6.1872904e-03, -3.5614628e-02,  8.6811191e-04],\n",
       "       [ 5.8289641e-03,  3.4555208e-02,  2.2960242e-02, ...,\n",
       "         1.7650485e-02,  2.1274474e-03, -2.0768423e-02]], dtype=float32)"
      ]
     },
     "execution_count": 49,
     "metadata": {},
     "output_type": "execute_result"
    }
   ],
   "source": [
    "model.linear_relu_stack[0].weight.detach().numpy()"
   ]
  },
  {
   "cell_type": "code",
   "execution_count": 22,
   "metadata": {},
   "outputs": [
    {
     "data": {
      "image/png": "[encoded data removed]",
      "text/plain": [
       "<Figure size 1000x500 with 2 Axes>"
      ]
     },
     "metadata": {},
     "output_type": "display_data"
    }
   ],
   "source": [
    "fig, axs = plt.subplots(1, 2, figsize=(10, 5))\n",
    "\n",
    "axs[0].plot(train_loss_epochs, label=\"train\")\n",
    "axs[0].plot(val_loss_epochs, label=\"valid\")\n",
    "axs[1].plot(train_acc_epochs, label=\"train\")\n",
    "axs[1].plot(val_acc_epochs, label=\"valid\")\n",
    "\n",
    "axs[0].legend()\n",
    "\n",
    "axs[0].set_title(\"loss\")\n",
    "axs[1].set_title(\"mean classification accuracy\")\n",
    "for i in range(2):\n",
    "    axs[i].set_xlabel(\"epoch\")"
   ]
  }
 ],
 "metadata": {
  "kernelspec": {
   "display_name": "rpy2_pip",
   "language": "python",
   "name": "python3"
  },
  "language_info": {
   "codemirror_mode": {
    "name": "ipython",
    "version": 3
   },
   "file_extension": ".py",
   "mimetype": "text/x-python",
   "name": "python",
   "nbconvert_exporter": "python",
   "pygments_lexer": "ipython3",
   "version": "3.10.13"
  }
 },
 "nbformat": 4,
 "nbformat_minor": 2
}
